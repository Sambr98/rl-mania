{
 "cells": [
  {
   "cell_type": "markdown",
   "metadata": {},
   "source": [
    "# Lunar Lander : Deep Q-Network"
   ]
  },
  {
   "cell_type": "code",
   "execution_count": 1,
   "metadata": {},
   "outputs": [],
   "source": [
    "import numpy as np\n",
    "import matplotlib.pyplot as plt\n",
    "import random\n",
    "import torch\n",
    "import torch.nn as nn\n",
    "import torch.nn.functional as F\n",
    "import gym\n",
    "import time"
   ]
  },
  {
   "cell_type": "code",
   "execution_count": 2,
   "metadata": {},
   "outputs": [
    {
     "name": "stdout",
     "output_type": "stream",
     "text": [
      "cuda:0\n"
     ]
    }
   ],
   "source": [
    "device = torch.device(\"cuda:0\" if torch.cuda.is_available() else \"cpu\")\n",
    "print(device)"
   ]
  },
  {
   "cell_type": "code",
   "execution_count": 3,
   "metadata": {},
   "outputs": [],
   "source": [
    "env = gym.make('LunarLander-v2')"
   ]
  },
  {
   "cell_type": "markdown",
   "metadata": {},
   "source": [
    "## The Q-Network / Replay Buffer / DQN Agent"
   ]
  },
  {
   "cell_type": "code",
   "execution_count": 4,
   "metadata": {},
   "outputs": [],
   "source": [
    "class QNetwork(nn.Module):\n",
    "    def __init__(self, state_dim, action_dim):\n",
    "        super(QNetwork, self).__init__()\n",
    "        self.fc1 = nn.Linear(state_dim, 64)\n",
    "        self.fc2 = nn.Linear(64, 32)\n",
    "        self.fc3 = nn.Linear(32, action_dim)\n",
    "    \n",
    "    def forward(self, x):\n",
    "        x = F.relu(self.fc1(x))\n",
    "        x = F.relu(self.fc2(x))\n",
    "        x = self.fc3(x)\n",
    "        return x"
   ]
  },
  {
   "cell_type": "code",
   "execution_count": 5,
   "metadata": {},
   "outputs": [],
   "source": [
    "class ReplayBuffer():\n",
    "    def __init__(self, buffer_size, batch_size):\n",
    "        self.buffer_size = buffer_size\n",
    "        self.batch_size = batch_size\n",
    "        self.memory = []\n",
    "    \n",
    "    def __len__(self):\n",
    "        return len(self.memory)\n",
    "    \n",
    "    def add(self, state, action, reward, next_state, done):\n",
    "        exp = (state, action, reward, next_state, done)\n",
    "        if (len(self.memory) == self.buffer_size):\n",
    "            self.memory.pop(0)\n",
    "        self.memory.append(exp)\n",
    "    \n",
    "    def sample(self):\n",
    "        exp = random.sample(self.memory, self.batch_size)\n",
    "        states, actions, rewards, next_states, dones = [], [], [], [], []\n",
    "        for xp in exp:\n",
    "            states.append(xp[0])\n",
    "            actions.append(xp[1])\n",
    "            rewards.append(xp[2])\n",
    "            next_states.append(xp[3])\n",
    "            dones.append(xp[4])\n",
    "        return (torch.FloatTensor(states).to(device), torch.LongTensor(actions).unsqueeze(1).to(device), torch.FloatTensor(rewards).to(device), torch.FloatTensor(next_states).to(device), torch.FloatTensor(dones).to(device))"
   ]
  },
  {
   "cell_type": "code",
   "execution_count": 6,
   "metadata": {},
   "outputs": [],
   "source": [
    "class DQNAgent():\n",
    "    def __init__(self, state_dim, action_dim, buffer_size, batch_size, discount, learning_rate):\n",
    "        self.action_dim = action_dim\n",
    "        self.discount = discount\n",
    "        self.batch_size = batch_size\n",
    "        self.q_network = QNetwork(state_dim, action_dim).to(device)\n",
    "        self.optimizer = torch.optim.Adam(self.q_network.parameters(), lr=learning_rate)\n",
    "        self.replay_buffer = ReplayBuffer(buffer_size, self.batch_size)\n",
    "    \n",
    "    def step(self, state, action, reward, next_state, done):\n",
    "        self.replay_buffer.add(state, action, reward, next_state, done)\n",
    "        if (len(self.replay_buffer) >= self.batch_size):\n",
    "            exp = self.replay_buffer.sample()\n",
    "            self.learn(exp)\n",
    "    \n",
    "    def learn(self, exp):\n",
    "        states, actions, rewards, next_states, dones = exp\n",
    "        outputs = self.q_network(next_states).detach()\n",
    "        action_values = torch.max(outputs, dim=1).values\n",
    "        q_target = (rewards + (self.discount * action_values * (1.0 - dones))).unsqueeze(1)\n",
    "        q_value = torch.gather(self.q_network(states), 1, actions)\n",
    "        criterion = nn.MSELoss()\n",
    "        loss = criterion(q_target, q_value)\n",
    "        self.optimizer.zero_grad()\n",
    "        loss.backward()\n",
    "        self.optimizer.step()\n",
    "    \n",
    "    def selectAction(self, state, epsilon):\n",
    "        if (np.random.random() < epsilon):\n",
    "            return np.random.randint(self.action_dim)\n",
    "        else:\n",
    "            state = torch.from_numpy(state).to(device)\n",
    "            self.q_network.eval()\n",
    "            with torch.no_grad():\n",
    "                output = self.q_network(state)\n",
    "            self.q_network.train()\n",
    "            return np.argmax(output.cpu()).item()"
   ]
  },
  {
   "cell_type": "markdown",
   "metadata": {},
   "source": [
    "## Training the DQN Agent"
   ]
  },
  {
   "cell_type": "code",
   "execution_count": 14,
   "metadata": {},
   "outputs": [],
   "source": [
    "episodes = 500\n",
    "max_steps = 1000\n",
    "\n",
    "epsilon = 1.0\n",
    "decay = 0.995\n",
    "epsilon_min = 0.01\n",
    "\n",
    "discount = 0.99\n",
    "learning_rate = 0.0001\n",
    "\n",
    "buffer_size = 100000\n",
    "batch_size = 64"
   ]
  },
  {
   "cell_type": "code",
   "execution_count": 15,
   "metadata": {},
   "outputs": [],
   "source": [
    "state_dim = env.observation_space.shape[0]\n",
    "action_dim = env.action_space.n"
   ]
  },
  {
   "cell_type": "code",
   "execution_count": 16,
   "metadata": {},
   "outputs": [],
   "source": [
    "dqn_agent = DQNAgent(state_dim, action_dim, buffer_size, batch_size, discount, learning_rate)"
   ]
  },
  {
   "cell_type": "code",
   "execution_count": 17,
   "metadata": {},
   "outputs": [
    {
     "name": "stdout",
     "output_type": "stream",
     "text": [
      " Episode 500/500"
     ]
    }
   ],
   "source": [
    "scores = []\n",
    "for ep in range(1, episodes + 1):\n",
    "    print(\"\\r Episode {}/{}\".format(ep, episodes), end='')\n",
    "    done = False\n",
    "    state = env.reset()\n",
    "    score = 0\n",
    "    step = 0\n",
    "    while (done == False and step < max_steps):\n",
    "        action = dqn_agent.selectAction(state, epsilon)\n",
    "        next_state, reward, done, info = env.step(action)\n",
    "        dqn_agent.step(state, action, reward, next_state, done)\n",
    "        state = next_state\n",
    "        score += reward\n",
    "        step += 1\n",
    "    if epsilon > epsilon_min:\n",
    "        epsilon *= decay\n",
    "    scores.append(score)"
   ]
  },
  {
   "cell_type": "code",
   "execution_count": 18,
   "metadata": {},
   "outputs": [
    {
     "data": {
      "image/png": "[encoded data removed]",
      "text/plain": [
       "<Figure size 432x288 with 1 Axes>"
      ]
     },
     "metadata": {
      "needs_background": "light"
     },
     "output_type": "display_data"
    }
   ],
   "source": [
    "plt.plot(scores)\n",
    "plt.title(\"Training Scores\")\n",
    "plt.xlabel(\"Episode\")\n",
    "plt.ylabel(\"Score\")\n",
    "plt.show()"
   ]
  },
  {
   "cell_type": "markdown",
   "metadata": {},
   "source": [
    "## Playing with the trained DQN Agent"
   ]
  },
  {
   "cell_type": "code",
   "execution_count": 20,
   "metadata": {},
   "outputs": [
    {
     "name": "stdout",
     "output_type": "stream",
     "text": [
      "Episode 0 - Score : 179.51520921255667\n",
      "Episode 1 - Score : 76.68415068313831\n",
      "Episode 2 - Score : 88.99209044799348\n",
      "Episode 3 - Score : 142.91063693108342\n",
      "Episode 4 - Score : 201.60457814028968\n"
     ]
    }
   ],
   "source": [
    "for ep in range(5):\n",
    "    score = 0\n",
    "    state = env.reset()\n",
    "    for step in range(1000):\n",
    "        env.render()\n",
    "        action = dqn_agent.selectAction(state, 0.0)\n",
    "        next_state, reward, done, info = env.step(action)\n",
    "        state = next_state\n",
    "        score += reward\n",
    "        if (done):\n",
    "            break\n",
    "    print(\"Episode {} - Score : {}\".format(ep, score))\n",
    "env.close()"
   ]
  },
  {
   "cell_type": "code",
   "execution_count": null,
   "metadata": {},
   "outputs": [],
   "source": []
  }
 ],
 "metadata": {
  "kernelspec": {
   "display_name": "Python 3",
   "language": "python",
   "name": "python3"
  },
  "language_info": {
   "codemirror_mode": {
    "name": "ipython",
    "version": 3
   },
   "file_extension": ".py",
   "mimetype": "text/x-python",
   "name": "python",
   "nbconvert_exporter": "python",
   "pygments_lexer": "ipython3",
   "version": "3.6.9"
  }
 },
 "nbformat": 4,
 "nbformat_minor": 2
}
